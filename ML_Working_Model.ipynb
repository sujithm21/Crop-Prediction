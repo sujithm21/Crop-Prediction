{
 "cells": [
  {
   "cell_type": "markdown",
   "metadata": {
    "id": "sYTpV6ZQ-_Be"
   },
   "source": [
    "**Import Dependencies**"
   ]
  },
  {
   "cell_type": "code",
   "execution_count": 10,
   "metadata": {
    "id": "gRCvq6cLry9X"
   },
   "outputs": [],
   "source": [
    "from __future__ import print_function\n",
    "import pandas as pd\n",
    "import numpy as np\n",
    "#import matplotlib.pyplot as plt\n",
    "#import seaborn as sns\n",
    "from sklearn.metrics import classification_report\n",
    "from sklearn import metrics\n",
    "from sklearn import tree\n",
    "import warnings\n",
    "warnings.filterwarnings('ignore')"
   ]
  },
  {
   "cell_type": "code",
   "execution_count": 11,
   "metadata": {
    "id": "tUlBzUIQsXK-"
   },
   "outputs": [],
   "source": [
    "#pandas data frame\n",
    "df = pd.read_csv('Crop_recommendation.csv')"
   ]
  },
  {
   "cell_type": "code",
   "execution_count": 12,
   "metadata": {
    "colab": {
     "base_uri": "https://localhost:8080/",
     "height": 206
    },
    "id": "4JuuBAVSsbUs",
    "outputId": "13a47651-1097-4b2a-e331-512ecaab437b"
   },
   "outputs": [
    {
     "data": {
      "text/html": [
       "<div>\n",
       "<style scoped>\n",
       "    .dataframe tbody tr th:only-of-type {\n",
       "        vertical-align: middle;\n",
       "    }\n",
       "\n",
       "    .dataframe tbody tr th {\n",
       "        vertical-align: top;\n",
       "    }\n",
       "\n",
       "    .dataframe thead th {\n",
       "        text-align: right;\n",
       "    }\n",
       "</style>\n",
       "<table border=\"1\" class=\"dataframe\">\n",
       "  <thead>\n",
       "    <tr style=\"text-align: right;\">\n",
       "      <th></th>\n",
       "      <th>N</th>\n",
       "      <th>P</th>\n",
       "      <th>K</th>\n",
       "      <th>temperature</th>\n",
       "      <th>humidity</th>\n",
       "      <th>ph</th>\n",
       "      <th>rainfall</th>\n",
       "      <th>label</th>\n",
       "    </tr>\n",
       "  </thead>\n",
       "  <tbody>\n",
       "    <tr>\n",
       "      <th>0</th>\n",
       "      <td>90</td>\n",
       "      <td>42</td>\n",
       "      <td>43</td>\n",
       "      <td>20.879744</td>\n",
       "      <td>82.002744</td>\n",
       "      <td>6.502985</td>\n",
       "      <td>202.935536</td>\n",
       "      <td>rice</td>\n",
       "    </tr>\n",
       "    <tr>\n",
       "      <th>1</th>\n",
       "      <td>85</td>\n",
       "      <td>58</td>\n",
       "      <td>41</td>\n",
       "      <td>21.770462</td>\n",
       "      <td>80.319644</td>\n",
       "      <td>7.038096</td>\n",
       "      <td>226.655537</td>\n",
       "      <td>rice</td>\n",
       "    </tr>\n",
       "    <tr>\n",
       "      <th>2</th>\n",
       "      <td>60</td>\n",
       "      <td>55</td>\n",
       "      <td>44</td>\n",
       "      <td>23.004459</td>\n",
       "      <td>82.320763</td>\n",
       "      <td>7.840207</td>\n",
       "      <td>263.964248</td>\n",
       "      <td>rice</td>\n",
       "    </tr>\n",
       "    <tr>\n",
       "      <th>3</th>\n",
       "      <td>74</td>\n",
       "      <td>35</td>\n",
       "      <td>40</td>\n",
       "      <td>26.491096</td>\n",
       "      <td>80.158363</td>\n",
       "      <td>6.980401</td>\n",
       "      <td>242.864034</td>\n",
       "      <td>rice</td>\n",
       "    </tr>\n",
       "    <tr>\n",
       "      <th>4</th>\n",
       "      <td>78</td>\n",
       "      <td>42</td>\n",
       "      <td>42</td>\n",
       "      <td>20.130175</td>\n",
       "      <td>81.604873</td>\n",
       "      <td>7.628473</td>\n",
       "      <td>262.717340</td>\n",
       "      <td>rice</td>\n",
       "    </tr>\n",
       "  </tbody>\n",
       "</table>\n",
       "</div>"
      ],
      "text/plain": [
       "    N   P   K  temperature   humidity        ph    rainfall label\n",
       "0  90  42  43    20.879744  82.002744  6.502985  202.935536  rice\n",
       "1  85  58  41    21.770462  80.319644  7.038096  226.655537  rice\n",
       "2  60  55  44    23.004459  82.320763  7.840207  263.964248  rice\n",
       "3  74  35  40    26.491096  80.158363  6.980401  242.864034  rice\n",
       "4  78  42  42    20.130175  81.604873  7.628473  262.717340  rice"
      ]
     },
     "execution_count": 12,
     "metadata": {},
     "output_type": "execute_result"
    }
   ],
   "source": [
    "#To show first five rows in the dataset\n",
    "df.head()"
   ]
  },
  {
   "cell_type": "code",
   "execution_count": 13,
   "metadata": {
    "colab": {
     "base_uri": "https://localhost:8080/"
    },
    "id": "QMLFo856sfUO",
    "outputId": "038e19ea-7536-43b7-bcc3-5368be14bf75"
   },
   "outputs": [
    {
     "data": {
      "text/plain": [
       "(18667, 8)"
      ]
     },
     "execution_count": 13,
     "metadata": {},
     "output_type": "execute_result"
    }
   ],
   "source": [
    "#no.of rows & coloumns\n",
    "df.shape"
   ]
  },
  {
   "cell_type": "code",
   "execution_count": 14,
   "metadata": {
    "colab": {
     "base_uri": "https://localhost:8080/"
    },
    "id": "9gfUz4nesxHr",
    "outputId": "0724990e-33cc-4bba-e908-8608963310ab"
   },
   "outputs": [
    {
     "data": {
      "text/plain": [
       "array(['rice', 'maize', 'Soyabeans', 'beans', 'peas', 'groundnuts',\n",
       "       'cowpeas', 'banana', 'mango', 'grapes', 'watermelon', 'apple',\n",
       "       'orange', 'cotton', 'coffee'], dtype=object)"
      ]
     },
     "execution_count": 14,
     "metadata": {},
     "output_type": "execute_result"
    }
   ],
   "source": [
    "#unique labels\n",
    "df['label'].unique()"
   ]
  },
  {
   "cell_type": "code",
   "execution_count": 15,
   "metadata": {
    "colab": {
     "base_uri": "https://localhost:8080/"
    },
    "id": "6EMH_Ic6s6Gj",
    "outputId": "7843e6c3-2d18-4828-ac85-08143ea3f6ad"
   },
   "outputs": [
    {
     "data": {
      "text/plain": [
       "label\n",
       "rice          1529\n",
       "Soyabeans     1430\n",
       "banana        1430\n",
       "beans         1375\n",
       "cowpeas       1342\n",
       "orange        1342\n",
       "maize         1309\n",
       "coffee        1210\n",
       "peas          1100\n",
       "groundnuts    1100\n",
       "mango         1100\n",
       "grapes        1100\n",
       "watermelon    1100\n",
       "apple         1100\n",
       "cotton        1100\n",
       "Name: count, dtype: int64"
      ]
     },
     "execution_count": 15,
     "metadata": {},
     "output_type": "execute_result"
    }
   ],
   "source": [
    "#count of labels\n",
    "df['label'].value_counts()"
   ]
  },
  {
   "cell_type": "code",
   "execution_count": 16,
   "metadata": {
    "colab": {
     "base_uri": "https://localhost:8080/",
     "height": 526
    },
    "id": "x57jRd4UtGFr",
    "outputId": "a34e81a8-51da-487f-adcb-b7e737934bd7"
   },
   "outputs": [],
   "source": [
    "#heat map\n",
    "#sns.heatmap(df.corr(),annot=True)"
   ]
  },
  {
   "cell_type": "code",
   "execution_count": 17,
   "metadata": {
    "id": "aJLWCgl3s8vQ"
   },
   "outputs": [],
   "source": [
    "#Dividing the X_dataset and y_dataset\n",
    "features = df[['N', 'P','K','temperature', 'humidity', 'ph', 'rainfall']]\n",
    "target = df['label']\n",
    "labels = df['label']"
   ]
  },
  {
   "cell_type": "code",
   "execution_count": 18,
   "metadata": {
    "id": "gMEFaeHbtTLi"
   },
   "outputs": [],
   "source": [
    "# Initialzing empty lists to append all model's name and corresponding name\n",
    "acc = []\n",
    "model = []"
   ]
  },
  {
   "cell_type": "code",
   "execution_count": 19,
   "metadata": {
    "id": "yE9LG-CCtWm5"
   },
   "outputs": [],
   "source": [
    "# Splitting into train and test data\n",
    "\n",
    "from sklearn.model_selection import train_test_split\n",
    "Xtrain, Xtest, Ytrain, Ytest = train_test_split(features,target,test_size = 0.2,random_state =2)"
   ]
  },
  {
   "cell_type": "code",
   "execution_count": 20,
   "metadata": {
    "id": "EzGItTnEtcy8"
   },
   "outputs": [],
   "source": [
    "#Import cross validation score\n",
    "from sklearn.model_selection import cross_val_score"
   ]
  },
  {
   "cell_type": "markdown",
   "metadata": {
    "id": "z5uBhl4BBLKF"
   },
   "source": [
    "**Decision Tree**"
   ]
  },
  {
   "cell_type": "code",
   "execution_count": 21,
   "metadata": {
    "colab": {
     "base_uri": "https://localhost:8080/"
    },
    "id": "KHikBK_ptYlG",
    "outputId": "9d90db4a-62d3-4ef7-93b3-aac9e30467ff"
   },
   "outputs": [
    {
     "name": "stdout",
     "output_type": "stream",
     "text": [
      "DecisionTrees's Accuracy is:  99.97321906802357\n",
      "              precision    recall  f1-score   support\n",
      "\n",
      "   Soyabeans       1.00      1.00      1.00       294\n",
      "       apple       1.00      1.00      1.00       212\n",
      "      banana       1.00      1.00      1.00       284\n",
      "       beans       1.00      1.00      1.00       260\n",
      "      coffee       1.00      1.00      1.00       233\n",
      "      cotton       1.00      1.00      1.00       212\n",
      "     cowpeas       1.00      1.00      1.00       252\n",
      "      grapes       1.00      1.00      1.00       226\n",
      "  groundnuts       1.00      1.00      1.00       216\n",
      "       maize       1.00      1.00      1.00       277\n",
      "       mango       1.00      1.00      1.00       213\n",
      "      orange       1.00      1.00      1.00       293\n",
      "        peas       1.00      1.00      1.00       219\n",
      "        rice       1.00      1.00      1.00       314\n",
      "  watermelon       1.00      1.00      1.00       229\n",
      "\n",
      "    accuracy                           1.00      3734\n",
      "   macro avg       1.00      1.00      1.00      3734\n",
      "weighted avg       1.00      1.00      1.00      3734\n",
      "\n"
     ]
    }
   ],
   "source": [
    "from sklearn.tree import DecisionTreeClassifier\n",
    "\n",
    "DecisionTree = DecisionTreeClassifier(criterion=\"entropy\",random_state=2,max_depth=5)\n",
    "\n",
    "DecisionTree.fit(Xtrain,Ytrain)\n",
    "\n",
    "predicted_values = DecisionTree.predict(Xtest)\n",
    "x = metrics.accuracy_score(Ytest, predicted_values)\n",
    "acc.append(x)\n",
    "model.append('Decision Tree')\n",
    "print(\"DecisionTrees's Accuracy is: \", x*100)\n",
    "\n",
    "print(classification_report(Ytest,predicted_values))"
   ]
  },
  {
   "cell_type": "code",
   "execution_count": 22,
   "metadata": {
    "id": "rmT-wiittnXf"
   },
   "outputs": [],
   "source": [
    "# Cross validation score (Decision Tree)\n",
    "score = cross_val_score(DecisionTree, features, target,cv=5)"
   ]
  },
  {
   "cell_type": "markdown",
   "metadata": {
    "colab": {
     "base_uri": "https://localhost:8080/"
    },
    "id": "6-MY4Ip0tose",
    "outputId": "1ad64817-e469-483d-e7fe-849a93e395c0"
   },
   "source": [
    "score"
   ]
  },
  {
   "cell_type": "code",
   "execution_count": 23,
   "metadata": {},
   "outputs": [],
   "source": [
    "import pickle\n",
    "DT_pkl_filename = 'models/DecisionTree.pkl'\n",
    "# Open the file to save as pkl file\n",
    "DT_Model_pkl = open(DT_pkl_filename, 'wb')\n",
    "pickle.dump(DecisionTree, DT_Model_pkl)\n",
    "# Close the pickle instances\n",
    "DT_Model_pkl.close()"
   ]
  },
  {
   "cell_type": "markdown",
   "metadata": {
    "id": "0F5M7iTbBn7c"
   },
   "source": [
    "**Gaussian Naive Bayes**"
   ]
  },
  {
   "cell_type": "code",
   "execution_count": 24,
   "metadata": {
    "colab": {
     "base_uri": "https://localhost:8080/"
    },
    "id": "GVkn551ttqPJ",
    "outputId": "0316501f-3372-4785-c7d7-3eefc75ee655"
   },
   "outputs": [
    {
     "name": "stdout",
     "output_type": "stream",
     "text": [
      "Naive Bayes's Accuracy is:  0.9997321906802357\n",
      "              precision    recall  f1-score   support\n",
      "\n",
      "   Soyabeans       1.00      1.00      1.00       294\n",
      "       apple       1.00      1.00      1.00       212\n",
      "      banana       1.00      1.00      1.00       284\n",
      "       beans       1.00      1.00      1.00       260\n",
      "      coffee       1.00      1.00      1.00       233\n",
      "      cotton       1.00      1.00      1.00       212\n",
      "     cowpeas       1.00      1.00      1.00       252\n",
      "      grapes       1.00      1.00      1.00       226\n",
      "  groundnuts       1.00      1.00      1.00       216\n",
      "       maize       1.00      1.00      1.00       277\n",
      "       mango       1.00      1.00      1.00       213\n",
      "      orange       1.00      1.00      1.00       293\n",
      "        peas       1.00      1.00      1.00       219\n",
      "        rice       1.00      1.00      1.00       314\n",
      "  watermelon       1.00      1.00      1.00       229\n",
      "\n",
      "    accuracy                           1.00      3734\n",
      "   macro avg       1.00      1.00      1.00      3734\n",
      "weighted avg       1.00      1.00      1.00      3734\n",
      "\n"
     ]
    }
   ],
   "source": [
    "from sklearn.naive_bayes import GaussianNB\n",
    "\n",
    "NaiveBayes = GaussianNB()\n",
    "\n",
    "NaiveBayes.fit(Xtrain,Ytrain)\n",
    "\n",
    "predicted_values = NaiveBayes.predict(Xtest)\n",
    "x = metrics.accuracy_score(Ytest, predicted_values)\n",
    "acc.append(x)\n",
    "model.append('Naive Bayes')\n",
    "print(\"Naive Bayes's Accuracy is: \", x)\n",
    "\n",
    "print(classification_report(Ytest,predicted_values))"
   ]
  },
  {
   "cell_type": "code",
   "execution_count": 25,
   "metadata": {
    "colab": {
     "base_uri": "https://localhost:8080/"
    },
    "id": "fyeKsZdStsKH",
    "outputId": "d9732738-8132-41f2-9082-b740c61a6d59"
   },
   "outputs": [
    {
     "data": {
      "text/plain": [
       "array([0.99946438, 0.99598286, 0.99919636, 1.        , 0.99517814])"
      ]
     },
     "execution_count": 25,
     "metadata": {},
     "output_type": "execute_result"
    }
   ],
   "source": [
    "# Cross validation score (NaiveBayes)\n",
    "score = cross_val_score(NaiveBayes,features,target,cv=5)\n",
    "score"
   ]
  },
  {
   "cell_type": "code",
   "execution_count": 26,
   "metadata": {},
   "outputs": [],
   "source": [
    "import pickle\n",
    "NB_pkl_filename = 'models/NBClassifier.pkl'\n",
    "# Open the file to save as pkl file\n",
    "NB_Model_pkl = open(NB_pkl_filename, 'wb')\n",
    "pickle.dump(NaiveBayes, NB_Model_pkl)\n",
    "# Close the pickle instances\n",
    "NB_Model_pkl.close()"
   ]
  },
  {
   "cell_type": "markdown",
   "metadata": {
    "id": "wQbl0_D7B4nl"
   },
   "source": [
    "**Support Vector Classification**"
   ]
  },
  {
   "cell_type": "code",
   "execution_count": 27,
   "metadata": {
    "colab": {
     "base_uri": "https://localhost:8080/"
    },
    "id": "0GhrPWd5tuSM",
    "outputId": "772f4c46-5fd3-4c33-f17f-644f62de8e8f"
   },
   "outputs": [
    {
     "name": "stdout",
     "output_type": "stream",
     "text": [
      "SVM's Accuracy is:  1.0\n",
      "              precision    recall  f1-score   support\n",
      "\n",
      "   Soyabeans       1.00      1.00      1.00       294\n",
      "       apple       1.00      1.00      1.00       212\n",
      "      banana       1.00      1.00      1.00       284\n",
      "       beans       1.00      1.00      1.00       260\n",
      "      coffee       1.00      1.00      1.00       233\n",
      "      cotton       1.00      1.00      1.00       212\n",
      "     cowpeas       1.00      1.00      1.00       252\n",
      "      grapes       1.00      1.00      1.00       226\n",
      "  groundnuts       1.00      1.00      1.00       216\n",
      "       maize       1.00      1.00      1.00       277\n",
      "       mango       1.00      1.00      1.00       213\n",
      "      orange       1.00      1.00      1.00       293\n",
      "        peas       1.00      1.00      1.00       219\n",
      "        rice       1.00      1.00      1.00       314\n",
      "  watermelon       1.00      1.00      1.00       229\n",
      "\n",
      "    accuracy                           1.00      3734\n",
      "   macro avg       1.00      1.00      1.00      3734\n",
      "weighted avg       1.00      1.00      1.00      3734\n",
      "\n"
     ]
    }
   ],
   "source": [
    "from sklearn.svm import SVC\n",
    "# data normalization with sklearn\n",
    "from sklearn.preprocessing import MinMaxScaler\n",
    "# fit scaler on training data\n",
    "norm = MinMaxScaler().fit(Xtrain)\n",
    "X_train_norm = norm.transform(Xtrain)\n",
    "# transform testing dataabs\n",
    "X_test_norm = norm.transform(Xtest)\n",
    "SVM = SVC(kernel='poly', degree=3, C=1)\n",
    "SVM.fit(X_train_norm,Ytrain)\n",
    "predicted_values = SVM.predict(X_test_norm)\n",
    "x = metrics.accuracy_score(Ytest, predicted_values)\n",
    "acc.append(x)\n",
    "model.append('SVM')\n",
    "print(\"SVM's Accuracy is: \", x)\n",
    "\n",
    "print(classification_report(Ytest,predicted_values))"
   ]
  },
  {
   "cell_type": "code",
   "execution_count": 28,
   "metadata": {
    "colab": {
     "base_uri": "https://localhost:8080/"
    },
    "id": "gcWGCtbGtxZp",
    "outputId": "e4a54aac-1eb4-4174-e9ef-903729fb09bc"
   },
   "outputs": [
    {
     "data": {
      "text/plain": [
       "array([0.99973219, 0.99223353, 0.99812483, 1.        , 1.        ])"
      ]
     },
     "execution_count": 28,
     "metadata": {},
     "output_type": "execute_result"
    }
   ],
   "source": [
    "# Cross validation score (SVM)\n",
    "score = cross_val_score(SVM,features,target,cv=5)\n",
    "score"
   ]
  },
  {
   "cell_type": "code",
   "execution_count": 29,
   "metadata": {},
   "outputs": [],
   "source": [
    "import pickle\n",
    "SVM_pkl_filename = 'models/SVMClassifier.pkl'\n",
    "# Open the file to save as pkl file\n",
    "SVM_Model_pkl = open(SVM_pkl_filename, 'wb')\n",
    "pickle.dump(SVM, SVM_Model_pkl)\n",
    "# Close the pickle instances\n",
    "SVM_Model_pkl.close()"
   ]
  },
  {
   "cell_type": "markdown",
   "metadata": {
    "id": "mLrzA_d4B_nz"
   },
   "source": [
    "**Logistic Regression**"
   ]
  },
  {
   "cell_type": "code",
   "execution_count": 30,
   "metadata": {
    "colab": {
     "base_uri": "https://localhost:8080/"
    },
    "id": "wWTe8aGEt0DX",
    "outputId": "dcfa8302-3579-4ea1-ef42-292247401b2b"
   },
   "outputs": [
    {
     "name": "stdout",
     "output_type": "stream",
     "text": [
      "Logistic Regression's Accuracy is:  0.9919657204070702\n",
      "              precision    recall  f1-score   support\n",
      "\n",
      "   Soyabeans       1.00      1.00      1.00       294\n",
      "       apple       1.00      1.00      1.00       212\n",
      "      banana       1.00      1.00      1.00       284\n",
      "       beans       1.00      1.00      1.00       260\n",
      "      coffee       1.00      1.00      1.00       233\n",
      "      cotton       0.93      0.92      0.93       212\n",
      "     cowpeas       1.00      1.00      1.00       252\n",
      "      grapes       1.00      1.00      1.00       226\n",
      "  groundnuts       1.00      1.00      1.00       216\n",
      "       maize       0.94      0.95      0.95       277\n",
      "       mango       1.00      1.00      1.00       213\n",
      "      orange       1.00      1.00      1.00       293\n",
      "        peas       1.00      1.00      1.00       219\n",
      "        rice       1.00      1.00      1.00       314\n",
      "  watermelon       1.00      1.00      1.00       229\n",
      "\n",
      "    accuracy                           0.99      3734\n",
      "   macro avg       0.99      0.99      0.99      3734\n",
      "weighted avg       0.99      0.99      0.99      3734\n",
      "\n"
     ]
    }
   ],
   "source": [
    "from sklearn.linear_model import LogisticRegression\n",
    "\n",
    "LogReg = LogisticRegression(random_state=2)\n",
    "\n",
    "LogReg.fit(Xtrain,Ytrain)\n",
    "\n",
    "predicted_values = LogReg.predict(Xtest)\n",
    "\n",
    "x = metrics.accuracy_score(Ytest, predicted_values)\n",
    "acc.append(x)\n",
    "model.append('Logistic Regression')\n",
    "print(\"Logistic Regression's Accuracy is: \", x)\n",
    "\n",
    "print(classification_report(Ytest,predicted_values))"
   ]
  },
  {
   "cell_type": "code",
   "execution_count": 31,
   "metadata": {
    "colab": {
     "base_uri": "https://localhost:8080/"
    },
    "id": "bvA-U3l_t2SV",
    "outputId": "375ea5af-3207-40ff-c813-8945c6857447"
   },
   "outputs": [
    {
     "data": {
      "text/plain": [
       "array([0.98607392, 0.98928763, 0.99089204, 0.988749  , 0.98607018])"
      ]
     },
     "execution_count": 31,
     "metadata": {},
     "output_type": "execute_result"
    }
   ],
   "source": [
    "# Cross validation score (Logistic Regression)\n",
    "score = cross_val_score(LogReg,features,target,cv=5)\n",
    "score"
   ]
  },
  {
   "cell_type": "code",
   "execution_count": 32,
   "metadata": {},
   "outputs": [],
   "source": [
    "import pickle\n",
    "LR_pkl_filename = 'models/LogisticRegression.pkl'\n",
    "# Open the file to save as pkl file\n",
    "LR_Model_pkl = open(DT_pkl_filename, 'wb')\n",
    "pickle.dump(LogReg, LR_Model_pkl)\n",
    "# Close the pickle instances\n",
    "LR_Model_pkl.close()"
   ]
  },
  {
   "cell_type": "markdown",
   "metadata": {
    "id": "dDrRXN45CE5k"
   },
   "source": [
    "**Random Forest**"
   ]
  },
  {
   "cell_type": "code",
   "execution_count": 33,
   "metadata": {
    "colab": {
     "base_uri": "https://localhost:8080/"
    },
    "id": "cA1mpixDt3sZ",
    "outputId": "2b0efb02-c1f9-4617-a9fe-4453df80e8c1"
   },
   "outputs": [
    {
     "name": "stdout",
     "output_type": "stream",
     "text": [
      "RF's Accuracy is:  0.9997321906802357\n",
      "              precision    recall  f1-score   support\n",
      "\n",
      "   Soyabeans       1.00      1.00      1.00       294\n",
      "       apple       1.00      1.00      1.00       212\n",
      "      banana       1.00      1.00      1.00       284\n",
      "       beans       1.00      1.00      1.00       260\n",
      "      coffee       1.00      1.00      1.00       233\n",
      "      cotton       1.00      1.00      1.00       212\n",
      "     cowpeas       1.00      1.00      1.00       252\n",
      "      grapes       1.00      1.00      1.00       226\n",
      "  groundnuts       1.00      1.00      1.00       216\n",
      "       maize       1.00      1.00      1.00       277\n",
      "       mango       1.00      1.00      1.00       213\n",
      "      orange       1.00      1.00      1.00       293\n",
      "        peas       1.00      1.00      1.00       219\n",
      "        rice       1.00      1.00      1.00       314\n",
      "  watermelon       1.00      1.00      1.00       229\n",
      "\n",
      "    accuracy                           1.00      3734\n",
      "   macro avg       1.00      1.00      1.00      3734\n",
      "weighted avg       1.00      1.00      1.00      3734\n",
      "\n"
     ]
    }
   ],
   "source": [
    "from sklearn.ensemble import RandomForestClassifier\n",
    "\n",
    "RF = RandomForestClassifier(n_estimators=20, random_state=0)\n",
    "RF.fit(Xtrain,Ytrain)\n",
    "\n",
    "predicted_values = RF.predict(Xtest)\n",
    "\n",
    "x = metrics.accuracy_score(Ytest, predicted_values)\n",
    "acc.append(x)\n",
    "model.append('RF')\n",
    "print(\"RF's Accuracy is: \", x)\n",
    "\n",
    "print(classification_report(Ytest,predicted_values))"
   ]
  },
  {
   "cell_type": "code",
   "execution_count": 34,
   "metadata": {
    "colab": {
     "base_uri": "https://localhost:8080/"
    },
    "id": "9ypF5hIFt56g",
    "outputId": "760e9e80-cb06-49ad-a429-598e3e70cfcb"
   },
   "outputs": [
    {
     "data": {
      "text/plain": [
       "array([1.        , 0.99946438, 1.        , 0.99919636, 1.        ])"
      ]
     },
     "execution_count": 34,
     "metadata": {},
     "output_type": "execute_result"
    }
   ],
   "source": [
    "# Cross validation score (Random Forest)\n",
    "score = cross_val_score(RF,features,target,cv=5)\n",
    "score"
   ]
  },
  {
   "cell_type": "code",
   "execution_count": 35,
   "metadata": {},
   "outputs": [],
   "source": [
    "import pickle\n",
    "RF_pkl_filename = 'models/RandomForest.pkl'\n",
    "# Open the file to save as pkl file\n",
    "RF_Model_pkl = open(RF_pkl_filename, 'wb')\n",
    "pickle.dump(RF, RF_Model_pkl)\n",
    "# Close the pickle instances\n",
    "RF_Model_pkl.close()"
   ]
  },
  {
   "cell_type": "markdown",
   "metadata": {
    "id": "UbGmyaoLCQt0"
   },
   "source": [
    "**XGBoost**"
   ]
  },
  {
   "cell_type": "code",
   "execution_count": 36,
   "metadata": {},
   "outputs": [
    {
     "name": "stdout",
     "output_type": "stream",
     "text": [
      "Requirement already satisfied: xgboost in c:\\6th sem\\ds355\\project\\ds355 project\\venv\\lib\\site-packages (2.0.3)\n",
      "Requirement already satisfied: numpy in c:\\6th sem\\ds355\\project\\ds355 project\\venv\\lib\\site-packages (from xgboost) (1.26.4)\n",
      "Requirement already satisfied: scipy in c:\\6th sem\\ds355\\project\\ds355 project\\venv\\lib\\site-packages (from xgboost) (1.12.0)\n",
      "Note: you may need to restart the kernel to use updated packages.\n"
     ]
    }
   ],
   "source": [
    "pip install xgboost"
   ]
  },
  {
   "cell_type": "code",
   "execution_count": 51,
   "metadata": {
    "colab": {
     "base_uri": "https://localhost:8080/"
    },
    "id": "4IXnkxs_t7r3",
    "outputId": "baee28d3-1732-4639-993c-006639e38a74"
   },
   "outputs": [
    {
     "name": "stdout",
     "output_type": "stream",
     "text": [
      "XGBoost's Accuracy is: 1.0\n",
      "              precision    recall  f1-score   support\n",
      "\n",
      "   Soyabeans       1.00      1.00      1.00       294\n",
      "       apple       1.00      1.00      1.00       212\n",
      "      banana       1.00      1.00      1.00       284\n",
      "       beans       1.00      1.00      1.00       260\n",
      "      coffee       1.00      1.00      1.00       233\n",
      "      cotton       1.00      1.00      1.00       212\n",
      "     cowpeas       1.00      1.00      1.00       252\n",
      "      grapes       1.00      1.00      1.00       226\n",
      "  groundnuts       1.00      1.00      1.00       216\n",
      "       maize       1.00      1.00      1.00       277\n",
      "       mango       1.00      1.00      1.00       213\n",
      "      orange       1.00      1.00      1.00       293\n",
      "        peas       1.00      1.00      1.00       219\n",
      "        rice       1.00      1.00      1.00       314\n",
      "  watermelon       1.00      1.00      1.00       229\n",
      "\n",
      "    accuracy                           1.00      3734\n",
      "   macro avg       1.00      1.00      1.00      3734\n",
      "weighted avg       1.00      1.00      1.00      3734\n",
      "\n"
     ]
    }
   ],
   "source": [
    "from sklearn.preprocessing import LabelEncoder\n",
    "from sklearn import metrics\n",
    "from sklearn.metrics import classification_report\n",
    "import xgboost as xgb\n",
    "import numpy as np\n",
    "\n",
    "# Assuming you've already defined and split your data into Xtrain, Xtest, Ytrain, Ytest\n",
    "\n",
    "# Initialize the label encoder\n",
    "label_encoder = LabelEncoder()\n",
    "\n",
    "# Fit label encoder and transform the target variable\n",
    "Ytrain_encoded = label_encoder.fit_transform(Ytrain)\n",
    "Ytest_encoded = label_encoder.transform(Ytest)\n",
    "\n",
    "# Train the XGBoost classifier\n",
    "XB = xgb.XGBClassifier()\n",
    "XB.fit(Xtrain, Ytrain_encoded)\n",
    "\n",
    "# Predict using the trained classifier\n",
    "predicted_values = XB.predict(Xtest)\n",
    "\n",
    "# Calculate accuracy\n",
    "accuracy = metrics.accuracy_score(Ytest_encoded, predicted_values)\n",
    "print(\"XGBoost's Accuracy is:\", accuracy)\n",
    "\n",
    "# Append accuracy and model name to lists\n",
    "acc.append(accuracy)\n",
    "model.append('XGBoost')\n",
    "\n",
    "# Print classification report\n",
    "print(classification_report(Ytest_encoded, predicted_values, target_names=label_encoder.classes_))\n",
    "\n",
    "\n",
    "\n"
   ]
  },
  {
   "cell_type": "code",
   "execution_count": 38,
   "metadata": {},
   "outputs": [],
   "source": [
    "import pickle\n",
    "XB_pkl_filename = 'models/XGBoost.pkl'\n",
    "# Open the file to save as pkl file\n",
    "XB_Model_pkl = open(XB_pkl_filename, 'wb')\n",
    "pickle.dump(XB, XB_Model_pkl)\n",
    "# Close the pickle instances\n",
    "XB_Model_pkl.close()"
   ]
  },
  {
   "cell_type": "markdown",
   "metadata": {
    "id": "zrUeHyd6DFQ8"
   },
   "source": [
    "**Accuracy Comparison**"
   ]
  },
  {
   "cell_type": "code",
   "execution_count": 39,
   "metadata": {
    "colab": {
     "base_uri": "https://localhost:8080/",
     "height": 504
    },
    "id": "NW6PvevNt_Da",
    "outputId": "1c6e5140-6585-46d7-8fc9-3b210eeb2948"
   },
   "outputs": [
    {
     "ename": "NameError",
     "evalue": "name 'plt' is not defined",
     "output_type": "error",
     "traceback": [
      "\u001b[1;31m---------------------------------------------------------------------------\u001b[0m",
      "\u001b[1;31mNameError\u001b[0m                                 Traceback (most recent call last)",
      "Cell \u001b[1;32mIn[39], line 1\u001b[0m\n\u001b[1;32m----> 1\u001b[0m \u001b[43mplt\u001b[49m\u001b[38;5;241m.\u001b[39mfigure(figsize\u001b[38;5;241m=\u001b[39m[\u001b[38;5;241m10\u001b[39m,\u001b[38;5;241m5\u001b[39m],dpi \u001b[38;5;241m=\u001b[39m \u001b[38;5;241m100\u001b[39m)\n\u001b[0;32m      2\u001b[0m plt\u001b[38;5;241m.\u001b[39mtitle(\u001b[38;5;124m'\u001b[39m\u001b[38;5;124mAccuracy Comparison\u001b[39m\u001b[38;5;124m'\u001b[39m)\n\u001b[0;32m      3\u001b[0m plt\u001b[38;5;241m.\u001b[39mxlabel(\u001b[38;5;124m'\u001b[39m\u001b[38;5;124mAccuracy\u001b[39m\u001b[38;5;124m'\u001b[39m)\n",
      "\u001b[1;31mNameError\u001b[0m: name 'plt' is not defined"
     ]
    }
   ],
   "source": [
    "plt.figure(figsize=[10,5],dpi = 100)\n",
    "plt.title('Accuracy Comparison')\n",
    "plt.xlabel('Accuracy')\n",
    "plt.ylabel('Algorithm')\n",
    "sns.barplot(x = acc,y = model,palette='dark')"
   ]
  },
  {
   "cell_type": "code",
   "execution_count": 40,
   "metadata": {
    "colab": {
     "base_uri": "https://localhost:8080/"
    },
    "id": "iSdtpZwiuIJd",
    "outputId": "1a76df01-9731-4590-9854-609dcb0d9f03"
   },
   "outputs": [
    {
     "name": "stdout",
     "output_type": "stream",
     "text": [
      "Decision Tree --> 0.9997321906802357\n",
      "Naive Bayes --> 0.9997321906802357\n",
      "SVM --> 1.0\n",
      "Logistic Regression --> 0.9919657204070702\n",
      "RF --> 0.9997321906802357\n",
      "XGBoost --> 1.0\n"
     ]
    }
   ],
   "source": [
    "accuracy_models = dict(zip(model, acc))\n",
    "for k, v in accuracy_models.items():\n",
    "    print (k, '-->', v)"
   ]
  },
  {
   "cell_type": "markdown",
   "metadata": {
    "id": "Rcr8mzW9DJX8"
   },
   "source": [
    "**Predictions**"
   ]
  },
  {
   "cell_type": "code",
   "execution_count": 52,
   "metadata": {
    "colab": {
     "base_uri": "https://localhost:8080/"
    },
    "id": "eBRXLPjJuS2C",
    "outputId": "5ab41318-b489-4f21-83ac-102baa59c363"
   },
   "outputs": [
    {
     "name": "stdout",
     "output_type": "stream",
     "text": [
      "['coffee']\n"
     ]
    }
   ],
   "source": [
    "data = np.array([[104, 18, 30, 23.603016, 60.3, 6.7, 140.91]])\n",
    "predicted_label_encoded = XB.predict(data)\n",
    "predicted_label = label_encoder.inverse_transform(predicted_label_encoded)\n",
    "print(predicted_label)"
   ]
  },
  {
   "cell_type": "code",
   "execution_count": 53,
   "metadata": {
    "colab": {
     "base_uri": "https://localhost:8080/"
    },
    "id": "cZk-PNqmuUe1",
    "outputId": "b05e4110-ed0a-489a-e217-950965402417"
   },
   "outputs": [
    {
     "name": "stdout",
     "output_type": "stream",
     "text": [
      "['rice']\n"
     ]
    }
   ],
   "source": [
    "data = np.array([[83, 41, 43, 21.0525355, 82.67839517, 6.254028451, 233.1075816\n",
    "]])\n",
    "prediction = RF.predict(data)\n",
    "print(prediction)"
   ]
  },
  {
   "cell_type": "code",
   "execution_count": null,
   "metadata": {
    "id": "zv4Eec2ouWu8"
   },
   "outputs": [],
   "source": []
  },
  {
   "cell_type": "code",
   "execution_count": null,
   "metadata": {},
   "outputs": [],
   "source": []
  }
 ],
 "metadata": {
  "colab": {
   "provenance": []
  },
  "kernelspec": {
   "display_name": "Python 3 (ipykernel)",
   "language": "python",
   "name": "python3"
  },
  "language_info": {
   "codemirror_mode": {
    "name": "ipython",
    "version": 3
   },
   "file_extension": ".py",
   "mimetype": "text/x-python",
   "name": "python",
   "nbconvert_exporter": "python",
   "pygments_lexer": "ipython3",
   "version": "3.10.4"
  }
 },
 "nbformat": 4,
 "nbformat_minor": 1
}
